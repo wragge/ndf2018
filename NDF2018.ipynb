{
 "cells": [
  {
   "cell_type": "markdown",
   "metadata": {
    "slideshow": {
     "slide_type": "slide"
    }
   },
   "source": [
    "# A GLAM data workbench for reluctant researchers\n",
    "\n",
    "#### Tim Sherratt (@wragge)"
   ]
  },
  {
   "cell_type": "markdown",
   "metadata": {
    "slideshow": {
     "slide_type": "slide"
    }
   },
   "source": [
    "Think of a word... any word."
   ]
  },
  {
   "cell_type": "markdown",
   "metadata": {
    "slideshow": {
     "slide_type": "slide"
    }
   },
   "source": [
    "Lots of interesting cultural heritage data, but..."
   ]
  },
  {
   "cell_type": "markdown",
   "metadata": {
    "slideshow": {
     "slide_type": "slide"
    }
   },
   "source": [
    "Do we have the skills?"
   ]
  },
  {
   "cell_type": "markdown",
   "metadata": {
    "slideshow": {
     "slide_type": "slide"
    }
   },
   "source": [
    "* [The Carpentries](https://carpentries.org/)\n",
    "* [The Programming Historian](https://programminghistorian.org/)"
   ]
  },
  {
   "cell_type": "markdown",
   "metadata": {
    "slideshow": {
     "slide_type": "slide"
    }
   },
   "source": [
    "How do we deliver **what’s needed, when it’s needed**?"
   ]
  },
  {
   "cell_type": "code",
   "execution_count": null,
   "metadata": {
    "slideshow": {
     "slide_type": "slide"
    }
   },
   "outputs": [],
   "source": [
    "import requests\n",
    "from credentials import API_KEY\n",
    "response = requests.get('http://api.digitalnz.org/v3/records.json', params={'api_key': API_KEY, 'text': '', 'facets': 'decade', 'facets_per_page': 25})\n",
    "data = response.json()\n",
    "print(' There are {:,} items in DigtalNZ!'.format(data['search']['result_count']))"
   ]
  },
  {
   "cell_type": "code",
   "execution_count": null,
   "metadata": {
    "slideshow": {
     "slide_type": "slide"
    }
   },
   "outputs": [],
   "source": [
    "import pandas as pd\n",
    "import altair as alt\n",
    "alt.renderers.enable('notebook')\n",
    "decades = data['search']['facets']['decade']\n",
    "decades_df = pd.Series(decades).to_frame().reset_index()\n",
    "decades_df.columns = ['decade', 'count']"
   ]
  },
  {
   "cell_type": "code",
   "execution_count": null,
   "metadata": {
    "slideshow": {
     "slide_type": "subslide"
    }
   },
   "outputs": [],
   "source": [
    "alt.Chart(decades_df).mark_bar().encode(\n",
    "    x = 'decade:O',\n",
    "    y = 'count:Q',\n",
    "    tooltip = alt.Tooltip('count', format=',')\n",
    ")"
   ]
  },
  {
   "cell_type": "markdown",
   "metadata": {
    "slideshow": {
     "slide_type": "slide"
    }
   },
   "source": [
    "* [Jupyter](https://jupyter.org/)\n",
    "* [Binder](https://mybinder.org/)"
   ]
  },
  {
   "cell_type": "markdown",
   "metadata": {
    "slideshow": {
     "slide_type": "slide"
    }
   },
   "source": [
    "* [Exploring the Te Papa collection API](https://nbviewer.jupyter.org/github/GLAM-Workbench/te-papa-api/blob/master/Exploring-the-Te-Papa-collection-API.ipynb)"
   ]
  },
  {
   "cell_type": "code",
   "execution_count": null,
   "metadata": {
    "slideshow": {
     "slide_type": "slide"
    }
   },
   "outputs": [],
   "source": [
    "params = {\n",
    "    'api_key': API_KEY,\n",
    "    'text': 'possum OR opossum',\n",
    "    'and[display_collection][]': 'Papers Past',\n",
    "    'facets': 'year,collection',\n",
    "    'facets_per_page': 100\n",
    "}\n",
    "response = requests.get('http://api.digitalnz.org/v3/records.json', params=params)\n",
    "data = response.json()"
   ]
  },
  {
   "cell_type": "code",
   "execution_count": null,
   "metadata": {
    "slideshow": {
     "slide_type": "subslide"
    }
   },
   "outputs": [],
   "source": [
    "titles = data['search']['facets']['collection']\n",
    "titles_df = pd.Series(titles).to_frame().reset_index()\n",
    "titles_df.columns = ['title', 'count']\n",
    "titles_df.head()"
   ]
  },
  {
   "cell_type": "code",
   "execution_count": null,
   "metadata": {
    "slideshow": {
     "slide_type": "subslide"
    }
   },
   "outputs": [],
   "source": [
    "years = data['search']['facets']['year']\n",
    "years_df = pd.Series(years).to_frame().reset_index()\n",
    "years_df.columns = ['year', 'count']\n",
    "years_df['url'] = 'https://paperspast.natlib.govt.nz/newspapers?query={0}&start_date=01-01-{1}&end_date=31-12-{1}'.format(params['text'], years_df['year'][0])\n",
    "years_df.head()"
   ]
  },
  {
   "cell_type": "code",
   "execution_count": null,
   "metadata": {
    "slideshow": {
     "slide_type": "subslide"
    }
   },
   "outputs": [],
   "source": [
    "c1 = alt.Chart(years_df, width=600).mark_line(point=True).encode(\n",
    "    x = 'year(year):T',\n",
    "    y = 'count:Q',\n",
    "    tooltip = [alt.Tooltip('year(year):T', title='year'), alt.Tooltip('count', format=',')],\n",
    "    href='url:N'\n",
    ").properties(\n",
    "    height=300,\n",
    "    width=500\n",
    ")\n",
    "\n",
    "c2 = alt.Chart(titles_df[1:11]).mark_bar().encode(\n",
    "    x = 'count:Q',\n",
    "    y = 'title:O',\n",
    "    tooltip = alt.Tooltip('count', format=',')\n",
    ").properties(\n",
    "    height=300,\n",
    "    width=200\n",
    ")\n",
    "\n",
    "c1 | c2"
   ]
  },
  {
   "cell_type": "markdown",
   "metadata": {
    "slideshow": {
     "slide_type": "slide"
    }
   },
   "source": [
    "* [Harvest data from Papers Past](https://nbviewer.jupyter.org/github/GLAM-Workbench/digitalnz/blob/master/Harvest-data-from-PapersPast.ipynb)"
   ]
  },
  {
   "cell_type": "markdown",
   "metadata": {
    "slideshow": {
     "slide_type": "slide"
    }
   },
   "source": [
    "* [GLAM Workbench](https://github.com/GLAM-Workbench)"
   ]
  }
 ],
 "metadata": {
  "celltoolbar": "Slideshow",
  "kernelspec": {
   "display_name": "Python 3",
   "language": "python",
   "name": "python3"
  },
  "language_info": {
   "codemirror_mode": {
    "name": "ipython",
    "version": 3
   },
   "file_extension": ".py",
   "mimetype": "text/x-python",
   "name": "python",
   "nbconvert_exporter": "python",
   "pygments_lexer": "ipython3",
   "version": "3.6.5"
  }
 },
 "nbformat": 4,
 "nbformat_minor": 2
}
